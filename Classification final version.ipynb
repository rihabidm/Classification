{
  "cells": [
    {
      "cell_type": "markdown",
      "metadata": {
        "id": "view-in-github",
        "colab_type": "text"
      },
      "source": [
        "<a href=\"https://colab.research.google.com/github/rihabidm/Classification/blob/main/Classification%20final%20version.ipynb\" target=\"_parent\"><img src=\"https://colab.research.google.com/assets/colab-badge.svg\" alt=\"Open In Colab\"/></a>"
      ]
    },
    {
      "cell_type": "code",
      "execution_count": null,
      "metadata": {
        "id": "Olc8dvXim9pX"
      },
      "outputs": [],
      "source": [
        "import pandas as pd\n",
        "import matplotlib.pyplot as plt\n",
        "import numpy as np\n",
        "from sklearn.datasets import make_classification"
      ]
    },
    {
      "cell_type": "markdown",
      "metadata": {
        "id": "-qCYzxAzm9pc"
      },
      "source": [
        "## Générer des données simulées pour la classification"
      ]
    },
    {
      "cell_type": "code",
      "execution_count": null,
      "metadata": {
        "id": "Po_AjEjxm9ph"
      },
      "outputs": [],
      "source": [
        "X, y = make_classification(n_samples=200, n_features=2, n_informative=2, n_redundant=0, n_clusters_per_class=1, random_state=42)"
      ]
    },
    {
      "cell_type": "code",
      "execution_count": null,
      "metadata": {
        "id": "4jXSVFSEm9pj",
        "outputId": "b46785be-80c8-4c2a-9bf2-1639a54463c6"
      },
      "outputs": [
        {
          "data": {
            "text/plain": [
              "(array([[-0.87292898,  0.013042  ],\n",
              "        [ 1.31293463,  2.77053357],\n",
              "        [ 2.34042818,  2.42099601],\n",
              "        [ 2.29454774, -0.40438019],\n",
              "        [ 0.94410516,  0.4772409 ],\n",
              "        [-0.11959689,  0.50891314],\n",
              "        [ 0.1510847 ,  0.81007677],\n",
              "        [-0.00745441, -0.45284256],\n",
              "        [-1.25396925,  0.06769236],\n",
              "        [-0.24392415,  1.19979806],\n",
              "        [-1.9208928 ,  2.9189499 ],\n",
              "        [ 0.48806269,  3.50578584],\n",
              "        [ 2.25751204,  1.81515089],\n",
              "        [-3.12190908,  0.62220145],\n",
              "        [ 1.87768113,  0.51095984],\n",
              "        [ 0.46785542,  0.7871928 ],\n",
              "        [ 0.48404809,  0.04843842],\n",
              "        [-0.54235518,  3.49536942],\n",
              "        [ 1.04235818,  1.10204918],\n",
              "        [ 1.63367133,  0.59219328],\n",
              "        [ 1.85756778,  1.7382647 ],\n",
              "        [-2.41167954, -0.80620914],\n",
              "        [ 0.87481918,  0.48815664],\n",
              "        [ 0.09529002,  0.57526555],\n",
              "        [-1.64994223, -0.06695917],\n",
              "        [-0.65245349, -0.19158949],\n",
              "        [ 2.10252081,  2.34684404],\n",
              "        [ 2.9574463 ,  2.01418031],\n",
              "        [-1.70056309, -0.19333846],\n",
              "        [ 0.86204356,  0.66498993],\n",
              "        [ 0.30162791,  0.22791173],\n",
              "        [ 1.96734507,  1.82610109],\n",
              "        [-0.6910389 ,  0.46491472],\n",
              "        [ 3.66332221,  2.15367981],\n",
              "        [ 2.3487899 ,  2.70680122],\n",
              "        [-0.10191136,  2.4621975 ],\n",
              "        [-1.09936351,  1.47691125],\n",
              "        [-0.47995197,  2.03891075],\n",
              "        [-2.54154743,  1.02491255],\n",
              "        [ 0.35734448,  1.07566374],\n",
              "        [-1.54796112,  1.70994209],\n",
              "        [ 0.41873144, -0.06259904],\n",
              "        [-0.72131493, -0.46420127],\n",
              "        [ 1.25197222,  0.92017185],\n",
              "        [-0.44891081,  0.0787994 ],\n",
              "        [-1.70707082,  0.49983212],\n",
              "        [-0.13866279, -0.79793785],\n",
              "        [ 0.54178214,  0.01195939],\n",
              "        [ 1.78797488,  1.51412733],\n",
              "        [-1.15134201,  0.76927531],\n",
              "        [ 1.10688432,  0.54432827],\n",
              "        [-1.00544154,  1.52897328],\n",
              "        [-2.41201542, -0.7357018 ],\n",
              "        [ 0.69472072,  0.42543324],\n",
              "        [ 0.44177614,  0.10611039],\n",
              "        [-0.38380103,  2.47232413],\n",
              "        [-2.40818907, -0.51139409],\n",
              "        [-1.76691875, -0.09986487],\n",
              "        [ 0.80125261,  1.68489836],\n",
              "        [ 2.97144919,  1.55596825],\n",
              "        [-0.20876699,  1.12654681],\n",
              "        [-1.5434072 ,  2.58513456],\n",
              "        [ 3.4705557 ,  1.80157587],\n",
              "        [-1.40349166,  0.5694988 ],\n",
              "        [-2.49380858,  0.37984677],\n",
              "        [-1.72457845,  0.61903802],\n",
              "        [ 0.17855096, -0.82020229],\n",
              "        [-0.93877103,  0.5951933 ],\n",
              "        [ 0.82632031,  0.74117663],\n",
              "        [-1.52852845,  0.85153651],\n",
              "        [-1.46545609,  1.27241291],\n",
              "        [-0.3581415 ,  2.80078624],\n",
              "        [ 0.65511414,  1.52522257],\n",
              "        [ 1.43464287,  0.88079636],\n",
              "        [-0.37217607,  0.56938167],\n",
              "        [-0.60404357,  1.28617369],\n",
              "        [-0.12478222,  0.40979613],\n",
              "        [ 2.17795625,  2.07341223],\n",
              "        [ 1.22935956,  1.03604499],\n",
              "        [-0.72886112, -1.22199822],\n",
              "        [ 0.07785476, -0.13794296],\n",
              "        [-1.19667757, -1.1316811 ],\n",
              "        [ 2.0706309 ,  1.62579107],\n",
              "        [ 2.64268527,  2.05746083],\n",
              "        [ 0.68583542, -0.4261365 ],\n",
              "        [ 0.25208052,  0.70104307],\n",
              "        [ 2.72588578,  0.55612935],\n",
              "        [-1.9695403 , -0.08886581],\n",
              "        [-0.64061899,  1.16106038],\n",
              "        [-0.72784069,  2.02854683],\n",
              "        [-1.27509973,  1.1134649 ],\n",
              "        [ 2.06851179, -0.49996815],\n",
              "        [-0.76965593,  0.40081602],\n",
              "        [-1.08582248,  0.61470729],\n",
              "        [ 0.68115929,  0.32321218],\n",
              "        [-0.62154585,  2.99462288],\n",
              "        [ 1.85205111, -0.09118106],\n",
              "        [ 0.27369333,  1.30224218],\n",
              "        [ 2.57621565,  1.83260099],\n",
              "        [-2.63559457,  1.56006448],\n",
              "        [ 0.02673783,  2.01438813],\n",
              "        [-2.35888098,  2.8345448 ],\n",
              "        [-0.68341504,  2.21663265],\n",
              "        [-1.19799362, -0.05181557],\n",
              "        [-1.07817905, -1.07385964],\n",
              "        [-0.76699391, -1.00254142],\n",
              "        [-0.35490992,  1.55059358],\n",
              "        [ 2.29801693,  1.6851969 ],\n",
              "        [ 1.91910213,  0.71341025],\n",
              "        [ 1.83871449, -0.0895209 ],\n",
              "        [ 2.14611901,  1.65019133],\n",
              "        [ 0.98184616,  0.42321507],\n",
              "        [ 1.11707051,  1.91633584],\n",
              "        [-0.96650639,  1.82145399],\n",
              "        [ 0.10497061,  0.70366436],\n",
              "        [ 1.55214461,  2.08837827],\n",
              "        [ 1.46896343,  1.60157099],\n",
              "        [-2.27093881,  0.66814014],\n",
              "        [-1.39245268,  0.29686204],\n",
              "        [-1.19552414, -0.41252288],\n",
              "        [ 0.00715787,  0.62259975],\n",
              "        [-0.9061517 ,  0.29007337],\n",
              "        [-1.59643538,  2.11527751],\n",
              "        [-0.14989682,  3.61729861],\n",
              "        [ 1.76584782,  0.95281272],\n",
              "        [ 0.25633049,  0.53589965],\n",
              "        [-2.77056029, -0.27056299],\n",
              "        [-0.44758139,  0.71376284],\n",
              "        [ 1.0951577 ,  1.64017517],\n",
              "        [-0.58215572,  0.16041392],\n",
              "        [-2.09153366,  0.5997162 ],\n",
              "        [ 2.05886828,  1.3730853 ],\n",
              "        [ 1.96508651,  1.25979692],\n",
              "        [ 0.50513533,  0.20050629],\n",
              "        [ 1.1080822 ,  1.34527769],\n",
              "        [ 1.51045023,  0.79961159],\n",
              "        [-1.95152462, -0.3746856 ],\n",
              "        [-2.49206972,  0.36324656],\n",
              "        [-1.33195632,  2.68281146],\n",
              "        [-1.60645651,  1.99630075],\n",
              "        [-0.01661337,  1.1175537 ],\n",
              "        [ 0.01094378,  2.53762706],\n",
              "        [ 0.39099533,  1.11157579],\n",
              "        [-0.06789396,  1.53020724],\n",
              "        [ 0.04728122,  0.84428765],\n",
              "        [-0.25130391,  0.73608209],\n",
              "        [-0.50660604,  0.10678033],\n",
              "        [ 1.29225586,  1.44570243],\n",
              "        [ 1.41652304,  1.5401642 ],\n",
              "        [ 2.16084506,  1.13805493],\n",
              "        [ 0.17155907,  0.73048287],\n",
              "        [ 0.56194739,  1.01902056],\n",
              "        [-1.56797304, -0.7487098 ],\n",
              "        [ 1.90943517,  0.07475541],\n",
              "        [ 1.88944759,  0.97729293],\n",
              "        [-0.91121309,  0.94134276],\n",
              "        [-0.15653176,  0.37372696],\n",
              "        [-1.27723853,  1.67754452],\n",
              "        [ 0.17677464,  0.36618904],\n",
              "        [-0.88028773,  0.19649562],\n",
              "        [-2.44168668,  1.84346099],\n",
              "        [ 0.23890301,  0.69843315],\n",
              "        [-0.71809799,  1.2847179 ],\n",
              "        [ 0.97059618,  0.57621593],\n",
              "        [ 0.31440771,  1.12561328],\n",
              "        [ 2.74022947,  0.52376227],\n",
              "        [-1.26435183,  0.76465751],\n",
              "        [ 0.65696708,  1.15419481],\n",
              "        [ 1.95795585,  1.62812515],\n",
              "        [ 1.37489728,  1.9532637 ],\n",
              "        [-0.30809618,  1.95043884],\n",
              "        [ 2.30799727,  1.16341341],\n",
              "        [ 0.81404363, -0.35848036],\n",
              "        [ 0.69302302,  2.41232056],\n",
              "        [-0.59666542, -0.09122514],\n",
              "        [ 1.65912112, -0.11746008],\n",
              "        [ 0.78571032,  1.87839005],\n",
              "        [ 0.63325054,  1.06751302],\n",
              "        [ 0.67392583,  2.48277463],\n",
              "        [ 0.32688158,  1.04961997],\n",
              "        [ 1.46965534,  0.71961349],\n",
              "        [ 0.37226849,  1.33797626],\n",
              "        [-2.56426542,  2.55034764],\n",
              "        [ 0.52805555,  0.53838702],\n",
              "        [ 1.95082039,  0.61542493],\n",
              "        [ 1.16573571,  1.50649925],\n",
              "        [-0.47553789, -0.28851949],\n",
              "        [ 0.07025051,  1.72051478],\n",
              "        [-0.91252221,  1.51142573],\n",
              "        [ 0.71099872,  0.40604731],\n",
              "        [ 0.24138379,  1.67668118],\n",
              "        [ 0.87551842,  0.29992973],\n",
              "        [-0.87217498,  2.94816692],\n",
              "        [-0.64962646,  0.27033822],\n",
              "        [ 3.58425588,  4.48422581],\n",
              "        [-2.3252393 , -0.91951221],\n",
              "        [-0.74131442,  1.97095155],\n",
              "        [-0.58161457,  1.19667242],\n",
              "        [ 0.87166405,  1.69040881],\n",
              "        [ 0.93710387,  3.52558068]]),\n",
              " array([1, 1, 1, 1, 1, 0, 1, 0, 0, 0, 0, 0, 1, 0, 1, 0, 1, 0, 1, 1, 1, 0,\n",
              "        1, 0, 0, 1, 1, 1, 0, 1, 0, 1, 0, 1, 1, 0, 0, 0, 0, 0, 0, 0, 0, 1,\n",
              "        0, 0, 0, 0, 1, 0, 1, 0, 0, 1, 1, 0, 0, 0, 1, 1, 0, 0, 1, 0, 0, 0,\n",
              "        0, 0, 1, 0, 0, 0, 1, 1, 1, 0, 1, 1, 1, 0, 1, 0, 1, 1, 0, 0, 1, 0,\n",
              "        0, 0, 0, 1, 1, 0, 1, 0, 1, 1, 1, 0, 1, 0, 0, 0, 0, 0, 0, 1, 1, 0,\n",
              "        1, 1, 1, 0, 1, 1, 1, 0, 1, 1, 1, 1, 0, 0, 1, 0, 1, 0, 1, 0, 0, 1,\n",
              "        1, 1, 1, 1, 0, 0, 0, 0, 0, 0, 1, 0, 1, 0, 0, 1, 1, 1, 1, 1, 0, 1,\n",
              "        1, 1, 1, 0, 1, 0, 0, 0, 0, 1, 1, 1, 0, 1, 1, 1, 0, 1, 1, 0, 0, 1,\n",
              "        0, 1, 1, 1, 1, 1, 0, 1, 1, 1, 0, 0, 0, 1, 1, 1, 0, 0, 1, 0, 0, 0,\n",
              "        1, 0]))"
            ]
          },
          "execution_count": 33,
          "metadata": {},
          "output_type": "execute_result"
        }
      ],
      "source": [
        "X, y"
      ]
    },
    {
      "cell_type": "markdown",
      "metadata": {
        "id": "y5xlZ7E7m9pm"
      },
      "source": [
        "## Diviser les données en deux classes"
      ]
    },
    {
      "cell_type": "code",
      "execution_count": null,
      "metadata": {
        "id": "xp4QBTVkm9po"
      },
      "outputs": [],
      "source": [
        "class_1 = X[y == 0]\n",
        "class_2 = X[y == 1]"
      ]
    },
    {
      "cell_type": "markdown",
      "metadata": {
        "id": "h_lb-HQbm9pp"
      },
      "source": [
        "## Tracer le nuage de points"
      ]
    },
    {
      "cell_type": "code",
      "execution_count": null,
      "metadata": {
        "id": "z1zgR_cEm9pr",
        "outputId": "7bc24589-0c3e-4e79-961e-21af2579184d"
      },
      "outputs": [
        {
          "data": {
            "image/png": "[encoded data removed]",
            "text/plain": [
              "<Figure size 432x288 with 1 Axes>"
            ]
          },
          "metadata": {
            "needs_background": "light"
          },
          "output_type": "display_data"
        }
      ],
      "source": [
        "plt.scatter(class_1[:, 0], class_1[:, 1], color='red', label='Class 1')\n",
        "plt.scatter(class_2[:, 0], class_2[:, 1], color='blue', label='Class 2')\n",
        "plt.xlabel('Feature 1')\n",
        "plt.ylabel('Feature 2')\n",
        "plt.title('Random Data for Classification')\n",
        "plt.legend()\n",
        "plt.show()"
      ]
    },
    {
      "cell_type": "code",
      "execution_count": null,
      "metadata": {
        "id": "cTh4dIZqm9pt"
      },
      "outputs": [],
      "source": [
        "from sklearn.model_selection import train_test_split\n",
        "from sklearn.neighbors import KNeighborsClassifier"
      ]
    },
    {
      "cell_type": "markdown",
      "metadata": {
        "id": "7n9uYSAJm9pv"
      },
      "source": [
        "## Split the data into training and testing sets"
      ]
    },
    {
      "cell_type": "code",
      "execution_count": null,
      "metadata": {
        "id": "6KzhoSXKm9pw"
      },
      "outputs": [],
      "source": [
        "X_train, X_test, y_train, y_test = train_test_split(X, y, test_size=0.2, random_state=42)"
      ]
    },
    {
      "cell_type": "markdown",
      "metadata": {
        "id": "yyhaYyw3m9px"
      },
      "source": [
        "# KNN classifier"
      ]
    },
    {
      "cell_type": "code",
      "execution_count": null,
      "metadata": {
        "id": "bQxB9En9m9px",
        "outputId": "06de6dc0-1b81-45b5-d004-da52627e6c07"
      },
      "outputs": [
        {
          "data": {
            "text/plain": [
              "KNeighborsClassifier()"
            ]
          },
          "execution_count": 6,
          "metadata": {},
          "output_type": "execute_result"
        }
      ],
      "source": [
        "k = 5  # Number of neighbors\n",
        "knn_classifier = KNeighborsClassifier(n_neighbors=k)\n",
        "knn_classifier.fit(X_train, y_train)"
      ]
    },
    {
      "cell_type": "markdown",
      "metadata": {
        "id": "zZGIgN2am9pz"
      },
      "source": [
        "## Visualisation de la barrière de décision"
      ]
    },
    {
      "cell_type": "code",
      "execution_count": null,
      "metadata": {
        "id": "a2k9w_f_m9pz",
        "outputId": "7b0cf411-29fc-480e-87e3-24b0f72488f5"
      },
      "outputs": [
        {
          "data": {
            "image/png": "[encoded data removed]",
            "text/plain": [
              "<Figure size 576x432 with 1 Axes>"
            ]
          },
          "metadata": {
            "needs_background": "light"
          },
          "output_type": "display_data"
        }
      ],
      "source": [
        "plt.figure(figsize=(8, 6))\n",
        "x_min, x_max = X[:, 0].min() - 1, X[:, 0].max() + 1\n",
        "y_min, y_max = X[:, 1].min() - 1, X[:, 1].max() + 1\n",
        "xx, yy = np.meshgrid(np.arange(x_min, x_max, 0.1), np.arange(y_min, y_max, 0.1))\n",
        "Z = knn_classifier.predict(np.c_[xx.ravel(), yy.ravel()])\n",
        "Z = Z.reshape(xx.shape)\n",
        "plt.contourf(xx, yy, Z, alpha=0.4)\n",
        "plt.scatter(X[:, 0], X[:, 1], c=y, s=20, edgecolor='k')\n",
        "plt.xlabel('Feature 1')\n",
        "plt.ylabel('Feature 2')\n",
        "plt.title('KNN Classifier Decision Boundary')\n",
        "plt.show()"
      ]
    },
    {
      "cell_type": "markdown",
      "metadata": {
        "id": "EhV-Hm_2m9p0"
      },
      "source": [
        "## Evaluation du classifier"
      ]
    },
    {
      "cell_type": "code",
      "execution_count": null,
      "metadata": {
        "id": "WwXxfbtnm9p1",
        "outputId": "91e69cbd-869b-4014-be60-a7b64f81e6eb"
      },
      "outputs": [
        {
          "name": "stdout",
          "output_type": "stream",
          "text": [
            "Accuracy of KNN Classifier: 0.88\n"
          ]
        }
      ],
      "source": [
        "accuracy = knn_classifier.score(X_test, y_test)\n",
        "print(f\"Accuracy of KNN Classifier: {accuracy:.2f}\")"
      ]
    },
    {
      "cell_type": "markdown",
      "metadata": {
        "id": "TSSg075Mm9p2"
      },
      "source": [
        "# Implementation de KNN from scratch"
      ]
    },
    {
      "cell_type": "code",
      "execution_count": null,
      "metadata": {
        "id": "Vt87awgVm9p2"
      },
      "outputs": [],
      "source": [
        "class KNN:\n",
        "    def __init__(self, k=3):\n",
        "        self.k = k\n",
        "\n",
        "    def fit(self, X_train, y_train):\n",
        "        self.X_train = X_train\n",
        "        self.y_train = y_train\n",
        "\n",
        "    def predict(self, X_test):\n",
        "        predictions = []\n",
        "        for x in X_test:\n",
        "            distances = []\n",
        "            for i, x_train in enumerate(self.X_train):\n",
        "                distance = np.sqrt(np.sum((x - x_train) ** 2))\n",
        "                distances.append((distance, self.y_train[i]))\n",
        "            distances.sort(key=lambda x: x[0])\n",
        "            k_nearest_neighbors = distances[:self.k]\n",
        "            majority_vote = max(set([neighbor[1] for neighbor in k_nearest_neighbors]), key=[neighbor[1] for neighbor in k_nearest_neighbors].count)\n",
        "            predictions.append(majority_vote)\n",
        "        return predictions"
      ]
    },
    {
      "cell_type": "markdown",
      "metadata": {
        "id": "BEdxIvtDm9p3"
      },
      "source": [
        "## Evaluation du classifier"
      ]
    },
    {
      "cell_type": "code",
      "execution_count": null,
      "metadata": {
        "id": "OxUL3Gqjm9p3",
        "outputId": "4aea0723-7355-4e0c-ff6d-d131b867192c"
      },
      "outputs": [
        {
          "name": "stdout",
          "output_type": "stream",
          "text": [
            "Accuracy of KNN Classifier: 0.88\n"
          ]
        }
      ],
      "source": [
        "knn = KNN(k=5)\n",
        "knn.fit(X_train, y_train)\n",
        "\n",
        "# Make predictions\n",
        "predictions = knn.predict(X_test)\n",
        "\n",
        "# Calculate accuracy\n",
        "accuracy = accuracy_score(y_test, predictions)\n",
        "print(f\"Accuracy of KNN Classifier: {accuracy:.2f}\")"
      ]
    },
    {
      "cell_type": "markdown",
      "metadata": {
        "id": "MMQVd2ehm9p3"
      },
      "source": [
        "# Arbre de décision"
      ]
    },
    {
      "cell_type": "code",
      "execution_count": null,
      "metadata": {
        "id": "O_ofD9Itm9p4"
      },
      "outputs": [],
      "source": [
        "from sklearn.tree import DecisionTreeClassifier\n",
        "from sklearn.metrics import accuracy_score\n",
        "from sklearn import tree"
      ]
    },
    {
      "cell_type": "markdown",
      "metadata": {
        "id": "PALzSjdTm9p4"
      },
      "source": [
        "## Créer et entraîner l'arbre de décision"
      ]
    },
    {
      "cell_type": "code",
      "execution_count": null,
      "metadata": {
        "id": "elVhiA5wm9p4",
        "outputId": "2ba5538c-50ba-4046-b87d-8c96007ffd49"
      },
      "outputs": [
        {
          "data": {
            "text/plain": [
              "DecisionTreeClassifier(random_state=42)"
            ]
          },
          "execution_count": 8,
          "metadata": {},
          "output_type": "execute_result"
        }
      ],
      "source": [
        "decision_tree = DecisionTreeClassifier(random_state=42)\n",
        "decision_tree.fit(X_train, y_train)"
      ]
    },
    {
      "cell_type": "markdown",
      "metadata": {
        "id": "i1GEx8YGm9p5"
      },
      "source": [
        "## Faire des prédictions sur l'ensemble de test"
      ]
    },
    {
      "cell_type": "code",
      "execution_count": null,
      "metadata": {
        "id": "f3eGA1ZQm9p5"
      },
      "outputs": [],
      "source": [
        "predictions = decision_tree.predict(X_test)"
      ]
    },
    {
      "cell_type": "markdown",
      "metadata": {
        "id": "ECS70nIbm9p9"
      },
      "source": [
        "## Calculer l'exactitude"
      ]
    },
    {
      "cell_type": "code",
      "execution_count": null,
      "metadata": {
        "id": "vqDZ_BTbm9p-",
        "outputId": "d89dc88e-edce-401e-8c8e-4e3a2ffcdcfc"
      },
      "outputs": [
        {
          "name": "stdout",
          "output_type": "stream",
          "text": [
            "Accuracy of Decision Tree Classifier: 0.80\n"
          ]
        }
      ],
      "source": [
        "accuracy = accuracy_score(y_test, predictions)\n",
        "print(f\"Accuracy of Decision Tree Classifier: {accuracy:.2f}\")"
      ]
    },
    {
      "cell_type": "markdown",
      "metadata": {
        "id": "qhTvlAlYm9p_"
      },
      "source": [
        "## Tracer l'arbre de décision"
      ]
    },
    {
      "cell_type": "code",
      "execution_count": null,
      "metadata": {
        "id": "T73Z06YXm9p_",
        "outputId": "8177b058-eef6-4ca0-82e2-4ee1ad7e38d6"
      },
      "outputs": [
        {
          "data": {
            "image/png": "[encoded data removed]",
            "text/plain": [
              "<Figure size 720x432 with 1 Axes>"
            ]
          },
          "metadata": {
            "needs_background": "light"
          },
          "output_type": "display_data"
        }
      ],
      "source": [
        "plt.figure(figsize=(10, 6))\n",
        "tree.plot_tree(decision_tree, filled=True, feature_names=['Feature 1', 'Feature 2'], class_names=['Class 0', 'Class 1'])\n",
        "plt.title('Decision Tree Visualization')\n",
        "plt.show()"
      ]
    },
    {
      "cell_type": "markdown",
      "metadata": {
        "id": "lbWjaSrPm9qA"
      },
      "source": [
        "# Arbre de décision from scratch"
      ]
    },
    {
      "cell_type": "code",
      "execution_count": null,
      "metadata": {
        "id": "J73THjTHm9qB"
      },
      "outputs": [],
      "source": [
        "class DecisionTree:\n",
        "    def __init__(self, max_depth=None):\n",
        "        self.max_depth = max_depth\n",
        "\n",
        "    def fit(self, X, y):\n",
        "        self.n_classes = len(np.unique(y))\n",
        "        self.tree_ = self._grow_tree(X, y)\n",
        "\n",
        "    def _grow_tree(self, X, y, depth=0):\n",
        "        n_samples, n_features = X.shape\n",
        "        n_labels = len(np.unique(y))\n",
        "\n",
        "        # Stopping criteria\n",
        "        if (self.max_depth is not None and depth >= self.max_depth) or n_labels == 1:\n",
        "            leaf_value = self._most_common_label(y)\n",
        "            return {'leaf': True, 'value': leaf_value}\n",
        "\n",
        "        # Find the best split\n",
        "        best_gain = -1\n",
        "        best_feature_idx = None\n",
        "        best_threshold = None\n",
        "        for feature_idx in range(n_features):\n",
        "            thresholds = np.unique(X[:, feature_idx])\n",
        "            for threshold in thresholds:\n",
        "                gain = self._information_gain(X, y, feature_idx, threshold)\n",
        "                if gain > best_gain:\n",
        "                    best_gain = gain\n",
        "                    best_feature_idx = feature_idx\n",
        "                    best_threshold = threshold\n",
        "\n",
        "        if best_gain == 0:\n",
        "            leaf_value = self._most_common_label(y)\n",
        "            return {'leaf': True, 'value': leaf_value}\n",
        "\n",
        "        # Split the data\n",
        "        left_idxs = X[:, best_feature_idx] < best_threshold\n",
        "        right_idxs = ~left_idxs\n",
        "        left_subtree = self._grow_tree(X[left_idxs], y[left_idxs], depth + 1)\n",
        "        right_subtree = self._grow_tree(X[right_idxs], y[right_idxs], depth + 1)\n",
        "\n",
        "        return {'leaf': False,\n",
        "                'feature_idx': best_feature_idx,\n",
        "                'threshold': best_threshold,\n",
        "                'left': left_subtree,\n",
        "                'right': right_subtree}\n",
        "\n",
        "    def _information_gain(self, X, y, feature_idx, threshold):\n",
        "        left_idxs = X[:, feature_idx] < threshold\n",
        "        right_idxs = ~left_idxs\n",
        "        n_samples = len(y)\n",
        "        left_weight = len(y[left_idxs]) / n_samples\n",
        "        right_weight = len(y[right_idxs]) / n_samples\n",
        "        gain = self._gini(y) - (left_weight * self._gini(y[left_idxs]) + right_weight * self._gini(y[right_idxs]))\n",
        "        return gain\n",
        "\n",
        "    def _gini(self, y):\n",
        "        _, counts = np.unique(y, return_counts=True)\n",
        "        probs = counts / len(y)\n",
        "        gini = 1 - np.sum(probs ** 2)\n",
        "        return gini\n",
        "\n",
        "    def _most_common_label(self, y):\n",
        "        labels, counts = np.unique(y, return_counts=True)\n",
        "        return labels[np.argmax(counts)]\n",
        "\n",
        "    def predict(self, X):\n",
        "        return np.array([self._predict_tree(x, self.tree_) for x in X])\n",
        "\n",
        "    def _predict_tree(self, x, tree):\n",
        "        if tree['leaf']:\n",
        "            return tree['value']\n",
        "        if x[tree['feature_idx']] < tree['threshold']:\n",
        "            return self._predict_tree(x, tree['left'])\n",
        "        else:\n",
        "            return self._predict_tree(x, tree['right'])\n"
      ]
    },
    {
      "cell_type": "markdown",
      "metadata": {
        "id": "ECMN4mmYm9qC"
      },
      "source": [
        "## Evaluaer l'exactitude de l'arbre"
      ]
    },
    {
      "cell_type": "code",
      "execution_count": null,
      "metadata": {
        "id": "tZz5FWOsm9qC",
        "outputId": "c09d642d-bb48-4363-970a-d9ffd0ffd100"
      },
      "outputs": [
        {
          "name": "stdout",
          "output_type": "stream",
          "text": [
            "Accuracy of Decision Tree Classifier: 0.82\n"
          ]
        }
      ],
      "source": [
        "dt = DecisionTree(max_depth=3)\n",
        "\n",
        "dt.fit(X_train, y_train)\n",
        "\n",
        "# Make predictions\n",
        "predictions = dt.predict(X_test)\n",
        "\n",
        "# Calculate the accuracy\n",
        "accuracy = accuracy_score(y_test, predictions)\n",
        "print(f\"Accuracy of Decision Tree Classifier: {accuracy:.2f}\")"
      ]
    },
    {
      "cell_type": "markdown",
      "metadata": {
        "id": "OHa-a24Em9qD"
      },
      "source": [
        "# SVM"
      ]
    },
    {
      "cell_type": "markdown",
      "metadata": {
        "id": "-xZgP3U-m9qE"
      },
      "source": [
        "## Instantiate and Train the SVM classifier"
      ]
    },
    {
      "cell_type": "code",
      "execution_count": null,
      "metadata": {
        "id": "OhazT8QJm9qE",
        "outputId": "ddf40680-e559-4354-80de-e89afc1a5f59"
      },
      "outputs": [
        {
          "data": {
            "text/plain": [
              "SVC(kernel='linear', random_state=42)"
            ]
          },
          "execution_count": 22,
          "metadata": {},
          "output_type": "execute_result"
        }
      ],
      "source": [
        "from sklearn.svm import SVC\n",
        "\n",
        "svm_classifier = SVC(kernel='linear', C=1.0, random_state=42)\n",
        "\n",
        "svm_classifier.fit(X_train, y_train)"
      ]
    },
    {
      "cell_type": "markdown",
      "metadata": {
        "id": "Zm13EaSAm9qE"
      },
      "source": [
        "## Make predictions and testing the accuracy"
      ]
    },
    {
      "cell_type": "code",
      "execution_count": null,
      "metadata": {
        "id": "AXyoUPDWm9qG",
        "outputId": "f133d327-c465-48b5-dd2c-7e2bbef0917b"
      },
      "outputs": [
        {
          "name": "stdout",
          "output_type": "stream",
          "text": [
            "Accuracy of SVM Classifier: 0.85\n"
          ]
        }
      ],
      "source": [
        "y_pred = svm_classifier.predict(X_test)\n",
        "\n",
        "accuracy = accuracy_score(y_test, y_pred)\n",
        "print(f\"Accuracy of SVM Classifier: {accuracy:.2f}\")"
      ]
    },
    {
      "cell_type": "markdown",
      "metadata": {
        "id": "qH01WHZAm9qG"
      },
      "source": [
        "# SVM from scratch"
      ]
    },
    {
      "cell_type": "code",
      "execution_count": null,
      "metadata": {
        "id": "cJ_QYmNnm9qH"
      },
      "outputs": [],
      "source": [
        "class SVM:\n",
        "    def __init__(self, C=1.0, max_iter=100, kernel='linear', gamma=None, degree=3):\n",
        "        self.C = C\n",
        "        self.max_iter = max_iter\n",
        "        self.kernel = kernel\n",
        "        self.gamma = gamma\n",
        "        self.degree = degree\n",
        "\n",
        "    def fit(self, X, y):\n",
        "        self.X = X\n",
        "        self.y = y\n",
        "        self.n_samples, self.n_features = X.shape\n",
        "\n",
        "        # Initialize alpha and bias\n",
        "        self.alpha = np.zeros(self.n_samples)\n",
        "        self.b = 0\n",
        "\n",
        "        # Compute kernel matrix\n",
        "        if self.kernel == 'linear':\n",
        "            self.K = np.dot(X, X.T)\n",
        "        elif self.kernel == 'rbf':\n",
        "            if self.gamma is None:\n",
        "                self.gamma = 1 / self.n_features\n",
        "            self.K = self._rbf_kernel(X)\n",
        "        elif self.kernel == 'poly':\n",
        "            self.K = self._poly_kernel(X)\n",
        "        else:\n",
        "            raise ValueError(\"Invalid kernel type\")\n",
        "\n",
        "        # Train SVM using SMO algorithm\n",
        "        for _ in range(self.max_iter):\n",
        "            alpha_changed = 0\n",
        "            for i in range(self.n_samples):\n",
        "                Ei = self._predict(self.X[i]) - self.y[i]\n",
        "                if ((self.y[i] * Ei < -1e-3 and self.alpha[i] < self.C) or\n",
        "                    (self.y[i] * Ei > 1e-3 and self.alpha[i] > 0)):\n",
        "                    j = self._select_random_index(i)\n",
        "                    Ej = self._predict(self.X[j]) - self.y[j]\n",
        "\n",
        "                    alpha_i_old = self.alpha[i]\n",
        "                    alpha_j_old = self.alpha[j]\n",
        "\n",
        "                    if self.y[i] != self.y[j]:\n",
        "                        L = max(0, self.alpha[j] - self.alpha[i])\n",
        "                        H = min(self.C, self.C + self.alpha[j] - self.alpha[i])\n",
        "                    else:\n",
        "                        L = max(0, self.alpha[i] + self.alpha[j] - self.C)\n",
        "                        H = min(self.C, self.alpha[i] + self.alpha[j])\n",
        "\n",
        "                    if L == H:\n",
        "                        continue\n",
        "\n",
        "                    eta = 2 * self.K[i, j] - self.K[i, i] - self.K[j, j]\n",
        "                    if eta >= 0:\n",
        "                        continue\n",
        "\n",
        "                    self.alpha[j] -= self.y[j] * (Ei - Ej) / eta\n",
        "                    self.alpha[j] = max(L, min(H, self.alpha[j]))\n",
        "\n",
        "                    if abs(self.alpha[j] - alpha_j_old) < 1e-5:\n",
        "                        continue\n",
        "\n",
        "                    self.alpha[i] += self.y[i] * self.y[j] * (alpha_j_old - self.alpha[j])\n",
        "\n",
        "                    b1 = self.b - Ei - self.y[i] * (self.alpha[i] - alpha_i_old) * self.K[i, i] - \\\n",
        "                         self.y[j] * (self.alpha[j] - alpha_j_old) * self.K[i, j]\n",
        "                    b2 = self.b - Ej - self.y[i] * (self.alpha[i] - alpha_i_old) * self.K[i, j] - \\\n",
        "                         self.y[j] * (self.alpha[j] - alpha_j_old) * self.K[j, j]\n",
        "\n",
        "                    if 0 < self.alpha[i] < self.C:\n",
        "                        self.b = b1\n",
        "                    elif 0 < self.alpha[j] < self.C:\n",
        "                        self.b = b2\n",
        "                    else:\n",
        "                        self.b = (b1 + b2) / 2\n",
        "\n",
        "                    alpha_changed += 1\n",
        "\n",
        "            if alpha_changed == 0:\n",
        "                break\n",
        "\n",
        "    def _predict(self, x):\n",
        "        if self.kernel == 'linear':\n",
        "            return np.dot((self.alpha * self.y), self.K.dot(x)) + self.b\n",
        "        elif self.kernel == 'rbf' or self.kernel == 'poly':\n",
        "            K_x = self._compute_kernel(x, self.X)\n",
        "            return np.sum(self.alpha * self.y * K_x) + self.b\n",
        "        else:\n",
        "            raise ValueError(\"Invalid kernel type\")\n",
        "\n",
        "    def predict(self, X):\n",
        "        return np.sign([self._predict(x) for x in X])\n",
        "\n",
        "    def _rbf_kernel(self, X):\n",
        "        n_samples = X.shape[0]\n",
        "        K = np.zeros((n_samples, n_samples))\n",
        "        for i in range(n_samples):\n",
        "            for j in range(n_samples):\n",
        "                K[i, j] = np.exp(-self.gamma * np.linalg.norm(X[i] - X[j])**2)\n",
        "        return K\n",
        "\n",
        "    def _poly_kernel(self, X):\n",
        "        return (np.dot(X, X.T) + 1) ** self.degree\n",
        "\n",
        "    def _select_random_index(self, i):\n",
        "        j = i\n",
        "        while j == i:\n",
        "            j = np.random.randint(self.n_samples)\n",
        "        return j"
      ]
    }
  ],
  "metadata": {
    "kernelspec": {
      "display_name": "Python 3",
      "language": "python",
      "name": "python3"
    },
    "language_info": {
      "codemirror_mode": {
        "name": "ipython",
        "version": 3
      },
      "file_extension": ".py",
      "mimetype": "text/x-python",
      "name": "python",
      "nbconvert_exporter": "python",
      "pygments_lexer": "ipython3",
      "version": "3.8.3"
    },
    "colab": {
      "provenance": [],
      "toc_visible": true,
      "include_colab_link": true
    }
  },
  "nbformat": 4,
  "nbformat_minor": 0
}